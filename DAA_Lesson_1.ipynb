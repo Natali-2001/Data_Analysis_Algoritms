{
 "cells": [
  {
   "cell_type": "code",
   "execution_count": 1,
   "metadata": {},
   "outputs": [],
   "source": [
    "import numpy as np\n",
    "import matplotlib.pyplot as plt\n",
    "plt.rcParams.update({'font.size': 14})"
   ]
  },
  {
   "cell_type": "code",
   "execution_count": 2,
   "metadata": {},
   "outputs": [
    {
     "data": {
      "text/plain": [
       "(2, 10)"
      ]
     },
     "execution_count": 2,
     "metadata": {},
     "output_type": "execute_result"
    }
   ],
   "source": [
    "X = np.array([[1, 1, 1, 1, 1, 1, 1, 1, 1, 1],   # для умножения на intercept\n",
    "              [1, 1, 2, 1, 3, 0, 5, 10, 1, 2]]) # стаж\n",
    "X.shape"
   ]
  },
  {
   "cell_type": "code",
   "execution_count": 3,
   "metadata": {},
   "outputs": [],
   "source": [
    "# средний балл ЕГЭ (целевая переменная)\n",
    "y = [45, 55, 50, 59, 65, 35, 75, 80, 50, 60]"
   ]
  },
  {
   "cell_type": "code",
   "execution_count": 4,
   "metadata": {},
   "outputs": [
    {
     "data": {
      "text/plain": [
       "array([47.23214286,  3.91071429])"
      ]
     },
     "execution_count": 4,
     "metadata": {},
     "output_type": "execute_result"
    }
   ],
   "source": [
    "w = np.linalg.inv(X @ X.T) @ X @ y\n",
    "w"
   ]
  },
  {
   "cell_type": "code",
   "execution_count": 5,
   "metadata": {},
   "outputs": [],
   "source": [
    "def calc_mse(y, y_pred):\n",
    "    err = np.mean((y - y_pred)**2)\n",
    "    return err\n",
    "\n",
    "def calc_mae(y, y_pred):\n",
    "    err = np.mean(np.abs(y - y_pred))\n",
    "    return err"
   ]
  },
  {
   "cell_type": "markdown",
   "metadata": {},
   "source": [
    "###  Домашние задания"
   ]
  },
  {
   "cell_type": "markdown",
   "metadata": {},
   "source": [
    "#### 1. Подберите скорость обучения (alpha) и количество итераций:"
   ]
  },
  {
   "cell_type": "code",
   "execution_count": 6,
   "metadata": {},
   "outputs": [
    {
     "name": "stdout",
     "output_type": "stream",
     "text": [
      "итерация: 0, веса: [2.102 3.9  ], MSE: 3173.15\n",
      "итерация: 1000, веса: [47.23088237  3.91094704], MSE: 45.937500872219864\n",
      "итерация: 2000, веса: [47.23214282  3.91071429], MSE: 45.93750000000001\n",
      "итерация: 3000, веса: [47.23214286  3.91071429], MSE: 45.937499999999986\n"
     ]
    }
   ],
   "source": [
    "n = X.shape[1]\n",
    "alpha = 0.01\n",
    "w = np.array([1, 0.5])\n",
    "\n",
    "for i in range(4000):\n",
    "    y_pred = np.dot(w, X)\n",
    "    err = calc_mse(y, y_pred)\n",
    "    for j in range(w.shape[0]):\n",
    "        w[j] -= alpha * (1/n * 2 * np.sum(X[j] * (y_pred - y)))\n",
    "    if i % 1000 == 0:\n",
    "        print(f'итерация: {i}, веса: {w}, MSE: {err}')"
   ]
  },
  {
   "cell_type": "markdown",
   "metadata": {},
   "source": [
    "при alpha = 0.01 достаточно 3000 итераций c шагом 1000 (если шаг взять 100, то просто больше значений, а в этом случае результат прямо как при МНК)"
   ]
  },
  {
   "cell_type": "markdown",
   "metadata": {},
   "source": [
    "#### *2. В этом коде мы избавляемся от итераций по весам, но тут есть ошибка, исправьте ее:"
   ]
  },
  {
   "cell_type": "code",
   "execution_count": 7,
   "metadata": {},
   "outputs": [
    {
     "name": "stdout",
     "output_type": "stream",
     "text": [
      "итерация: 0, веса: [2.102 3.9  ], MSE: 3173.15\n",
      "итерация: 1000, веса: [47.23088237  3.91094704], MSE: 45.937500872219864\n",
      "итерация: 2000, веса: [47.23214282  3.91071429], MSE: 45.93750000000001\n",
      "итерация: 3000, веса: [47.23214286  3.91071429], MSE: 45.937499999999986\n"
     ]
    }
   ],
   "source": [
    "w = np.array([1, 0.5])\n",
    "\n",
    "for i in range(4000):\n",
    "    y_pred = np.dot(w, X)\n",
    "    err = calc_mse(y, y_pred)\n",
    "    '''for j in range(w.shape[0]):\n",
    "        w[j] -= alpha * (1/n * 2 * np.sum(X[j] * (y_pred - y)))'''\n",
    "    w -= alpha * (1/n * 2 * (X @ (w @ X - y)))\n",
    "    if i % 1000 == 0:\n",
    "        print(f'итерация: {i}, веса: {w}, MSE: {err}')"
   ]
  },
  {
   "cell_type": "markdown",
   "metadata": {},
   "source": [
    "####  *3. Вместо того, чтобы задавать количество итераций, задайте условие остановки алгоритма - когда ошибка за итерацию начинает изменяться ниже определенного порога"
   ]
  },
  {
   "cell_type": "code",
   "execution_count": 8,
   "metadata": {},
   "outputs": [
    {
     "name": "stdout",
     "output_type": "stream",
     "text": [
      "итерация: 2, MSE: 45.9375, веса: [47.23214286  3.91071429]\n"
     ]
    }
   ],
   "source": [
    "i = 1\n",
    "while True:\n",
    "    y_pred = w @ X\n",
    "    err = calc_mse(y, y_pred)\n",
    "    if i > 1:\n",
    "        if abs(err - err_prev) < 1e-6:\n",
    "            print(f'итерация: {i}, MSE: {err}, веса: {w}')\n",
    "            break\n",
    "    for j in range(w.shape[0]):\n",
    "         w -= alpha * (1/n * 2 * (X @ (w @ X - y)))\n",
    "    if i % 100 == 0:\n",
    "        print(f'итерация: {i}, MSE: {err}, веса: {w}')\n",
    "    err_prev = err\n",
    "    i += 1"
   ]
  }
 ],
 "metadata": {
  "kernelspec": {
   "display_name": "Python 3",
   "language": "python",
   "name": "python3"
  },
  "language_info": {
   "codemirror_mode": {
    "name": "ipython",
    "version": 3
   },
   "file_extension": ".py",
   "mimetype": "text/x-python",
   "name": "python",
   "nbconvert_exporter": "python",
   "pygments_lexer": "ipython3",
   "version": "3.8.5"
  }
 },
 "nbformat": 4,
 "nbformat_minor": 4
}
